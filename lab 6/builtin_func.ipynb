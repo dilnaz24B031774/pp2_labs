{
 "cells": [
  {
   "cell_type": "markdown",
   "metadata": {},
   "source": [
    "Task 1"
   ]
  },
  {
   "cell_type": "code",
   "execution_count": null,
   "metadata": {},
   "outputs": [
    {
     "name": "stdout",
     "output_type": "stream",
     "text": [
      "120\n"
     ]
    }
   ],
   "source": [
    "import math\n",
    "import operator\n",
    "import functools\n",
    "def multiply_numbers(numbers):\n",
    "    result = math.prod(numbers)\n",
    "    return result\n",
    "numbers = [1, 2, 3, 4, 5]\n",
    "print(multiply_numbers(numbers))  "
   ]
  },
  {
   "cell_type": "markdown",
   "metadata": {},
   "source": [
    "Task 2"
   ]
  },
  {
   "cell_type": "code",
   "execution_count": 7,
   "metadata": {},
   "outputs": [
    {
     "name": "stdout",
     "output_type": "stream",
     "text": [
      "Upper case letters: 1\n",
      "Lower case letters: 13\n"
     ]
    }
   ],
   "source": [
    "def count_case_letters(text):\n",
    "    upper_count = sum(1 for c in text if c.isupper())\n",
    "    lower_count = sum(1 for c in text if c.islower())\n",
    "    return upper_count, lower_count\n",
    "\n",
    "text = \"This is a context\"\n",
    "upper_count, lower_count = count_case_letters(text)\n",
    "print(f\"Upper case letters: {upper_count}\")\n",
    "print(f\"Lower case letters: {lower_count}\")"
   ]
  },
  {
   "cell_type": "markdown",
   "metadata": {},
   "source": [
    "Task 3"
   ]
  },
  {
   "cell_type": "code",
   "execution_count": null,
   "metadata": {},
   "outputs": [
    {
     "name": "stdout",
     "output_type": "stream",
     "text": [
      "True\n"
     ]
    }
   ],
   "source": [
    "def palindrome(text):\n",
    "    return text == \"\".join(reversed(text))\n",
    "text = input()\n",
    "print(palindrome(text)) "
   ]
  },
  {
   "cell_type": "markdown",
   "metadata": {},
   "source": [
    "Task 4"
   ]
  },
  {
   "cell_type": "code",
   "execution_count": 13,
   "metadata": {},
   "outputs": [
    {
     "name": "stdout",
     "output_type": "stream",
     "text": [
      "Square root of 25100 after 2123 milliseconds is 158.42979517754858\n"
     ]
    }
   ],
   "source": [
    "import math\n",
    "import time\n",
    "def invoke_square_root(n, milliseconds):\n",
    "    time.sleep(milliseconds / 1000)  # Convert milliseconds to seconds\n",
    "    result = math.sqrt(n)\n",
    "    return result\n",
    "n = 25100\n",
    "milliseconds = 2123\n",
    "result = invoke_square_root(n, milliseconds)\n",
    "print(f\"Square root of {n} after {milliseconds} milliseconds is {result}\")"
   ]
  },
  {
   "cell_type": "markdown",
   "metadata": {},
   "source": [
    "Task 5"
   ]
  },
  {
   "cell_type": "code",
   "execution_count": 12,
   "metadata": {},
   "outputs": [
    {
     "name": "stdout",
     "output_type": "stream",
     "text": [
      "True\n",
      "False\n"
     ]
    }
   ],
   "source": [
    "def all_true(t):\n",
    "    return all(t)\n",
    "tuple1 = (True, True, True)\n",
    "print(all_true(tuple1)) \n",
    "\n",
    "tuple2 = (True, False, True)\n",
    "print(all_true(tuple2))  "
   ]
  }
 ],
 "metadata": {
  "kernelspec": {
   "display_name": "Python 3",
   "language": "python",
   "name": "python3"
  },
  "language_info": {
   "codemirror_mode": {
    "name": "ipython",
    "version": 3
   },
   "file_extension": ".py",
   "mimetype": "text/x-python",
   "name": "python",
   "nbconvert_exporter": "python",
   "pygments_lexer": "ipython3",
   "version": "3.9.6"
  }
 },
 "nbformat": 4,
 "nbformat_minor": 2
}
