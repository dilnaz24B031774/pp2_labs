{
 "cells": [
  {
   "cell_type": "markdown",
   "metadata": {},
   "source": [
    "Classes"
   ]
  },
  {
   "cell_type": "markdown",
   "metadata": {},
   "source": [
    "Параметр self является ссылкой на текущий экземпляр класса и используется для доступа к переменным, принадлежащим классу\n"
   ]
  },
  {
   "cell_type": "code",
   "execution_count": 27,
   "metadata": {},
   "outputs": [
    {
     "name": "stdout",
     "output_type": "stream",
     "text": [
      "HELLO\n"
     ]
    }
   ],
   "source": [
    "#Task 1\n",
    "class StringClass:\n",
    "    def __init__(self, string=\"\"):\n",
    "        self.string = string\n",
    "    def getString(self):\n",
    "        self.string = input(\"Enter: \")\n",
    "    def printString(self):\n",
    "        print(self.string.upper())\n",
    "\n",
    "obj = StringClass(\"Hello\")\n",
    "obj.printString()"
   ]
  },
  {
   "cell_type": "code",
   "execution_count": 16,
   "metadata": {},
   "outputs": [
    {
     "name": "stdout",
     "output_type": "stream",
     "text": [
      "Area of the square: 16\n",
      "Area of the rectangle: 15\n"
     ]
    }
   ],
   "source": [
    "\n",
    "#Task 2\n",
    "class Shape:\n",
    "    def area(self):\n",
    "        return 0\n",
    "class Square(Shape):\n",
    "    def __init__(self, length):\n",
    "        self.length = length\n",
    "\n",
    "    def area(self):\n",
    "        return self.length * self.length\n",
    "#Task 3\n",
    "class Rectangle(Shape):\n",
    "    def __init__(self, length, width):\n",
    "        self.length = length\n",
    "        self.width = width\n",
    "\n",
    "    def area(self):\n",
    "        return self.length * self.width\n",
    "\n",
    "square = Square(4)\n",
    "print(f\"Area of the square: {square.area()}\")  \n",
    "\n",
    "rectangle = Rectangle(5, 3)\n",
    "print(f\"Area of the rectangle: {rectangle.area()}\") "
   ]
  },
  {
   "cell_type": "code",
   "execution_count": 44,
   "metadata": {},
   "outputs": [],
   "source": [
    "#Task 4\n",
    "import math\n",
    "class Point:\n",
    "    def __init__(self ,x,y):\n",
    "        self.x = x\n",
    "        self.y = y\n",
    "    def show(self):\n",
    "        print(f\"Cordinates: ({self.x},{self.y})\")\n",
    "    def move(self,new_x,new_y):\n",
    "        self.x = new_x\n",
    "        self.y = new_y\n",
    "    def dist(self,other):\n",
    "        return math.sqrt((self.x-self.other)**2 - (self.y-self.other)**2)\n"
   ]
  },
  {
   "cell_type": "code",
   "execution_count": 46,
   "metadata": {},
   "outputs": [
    {
     "name": "stdout",
     "output_type": "stream",
     "text": [
      "Prime numbers:  [2, 3, 5, 7, 11, 13, 17, 19, 23]\n"
     ]
    }
   ],
   "source": [
    "#Task 6\n",
    "prime = lambda num: num > 1 and all(num % i != 0 for i in range(2, int(math.sqrt(num)) + 1))\n",
    "\n",
    "num = [2, 3, 4, 5, 6, 7, 8, 9, 10, 11, 13, 17, 19, 23]\n",
    "prime_numbers = list(filter(prime, num))\n",
    "print(\"Prime numbers: \", prime_numbers)"
   ]
  },
  {
   "cell_type": "markdown",
   "metadata": {},
   "source": [
    "Functions"
   ]
  },
  {
   "cell_type": "code",
   "execution_count": 28,
   "metadata": {},
   "outputs": [
    {
     "data": {
      "text/plain": [
       "56.6990462"
      ]
     },
     "execution_count": 28,
     "metadata": {},
     "output_type": "execute_result"
    }
   ],
   "source": [
    "#Task 1\n",
    "def grams_to_ounces(grams):\n",
    "    return grams * 28.3495231\n",
    "def grams_to_ounces(grams):\n",
    "    return grams * 28.3495231\n",
    "grams_to_ounces(2)"
   ]
  },
  {
   "cell_type": "code",
   "execution_count": 6,
   "metadata": {},
   "outputs": [
    {
     "name": "stdout",
     "output_type": "stream",
     "text": [
      "37.77777777777778\n",
      "0.0\n",
      "-6.944444444444445\n"
     ]
    }
   ],
   "source": [
    "#Task 2\n",
    "def fahrenheit_to_celsius(f):\n",
    "    return (5 / 9) * (f - 32)\n",
    "print(fahrenheit_to_celsius(100))\n",
    "print(fahrenheit_to_celsius(32))\n",
    "print(fahrenheit_to_celsius(19.5))\n"
   ]
  },
  {
   "cell_type": "code",
   "execution_count": 50,
   "metadata": {},
   "outputs": [],
   "source": [
    "#Task 3\n",
    "def problem3(numheads, numlegs):\n",
    "    rabbits = (numlegs - 2 * numheads) // 2\n",
    "    chickens = numheads - rabbits\n",
    "    return chickens, rabbits"
   ]
  },
  {
   "cell_type": "code",
   "execution_count": 51,
   "metadata": {},
   "outputs": [],
   "source": [
    "#Task 4 \n",
    "def is_prime(n):\n",
    "    if n < 2:\n",
    "        return False\n",
    "    for i in range(2, int(n ** 0.5) + 1):\n",
    "        if n % i == 0:\n",
    "            return False\n",
    "    return True"
   ]
  },
  {
   "cell_type": "markdown",
   "metadata": {},
   "source": [
    "#Здесь мы импортируем функцию permutations из модуля itertools.\n",
    "Эта функция генерирует все возможные перестановки "
   ]
  },
  {
   "cell_type": "code",
   "execution_count": 20,
   "metadata": {},
   "outputs": [
    {
     "name": "stdout",
     "output_type": "stream",
     "text": [
      "['hello', 'helol', 'hello', 'helol', 'heoll', 'heoll', 'hlelo', 'hleol', 'hlleo', 'hlloe', 'hloel', 'hlole', 'hlelo', 'hleol', 'hlleo', 'hlloe', 'hloel', 'hlole', 'hoell', 'hoell', 'holel', 'holle', 'holel', 'holle', 'ehllo', 'ehlol', 'ehllo', 'ehlol', 'eholl', 'eholl', 'elhlo', 'elhol', 'ellho', 'elloh', 'elohl', 'elolh', 'elhlo', 'elhol', 'ellho', 'elloh', 'elohl', 'elolh', 'eohll', 'eohll', 'eolhl', 'eollh', 'eolhl', 'eollh', 'lhelo', 'lheol', 'lhleo', 'lhloe', 'lhoel', 'lhole', 'lehlo', 'lehol', 'lelho', 'leloh', 'leohl', 'leolh', 'llheo', 'llhoe', 'lleho', 'lleoh', 'llohe', 'lloeh', 'lohel', 'lohle', 'loehl', 'loelh', 'lolhe', 'loleh', 'lhelo', 'lheol', 'lhleo', 'lhloe', 'lhoel', 'lhole', 'lehlo', 'lehol', 'lelho', 'leloh', 'leohl', 'leolh', 'llheo', 'llhoe', 'lleho', 'lleoh', 'llohe', 'lloeh', 'lohel', 'lohle', 'loehl', 'loelh', 'lolhe', 'loleh', 'ohell', 'ohell', 'ohlel', 'ohlle', 'ohlel', 'ohlle', 'oehll', 'oehll', 'oelhl', 'oellh', 'oelhl', 'oellh', 'olhel', 'olhle', 'olehl', 'olelh', 'ollhe', 'olleh', 'olhel', 'olhle', 'olehl', 'olelh', 'ollhe', 'olleh']\n"
     ]
    }
   ],
   "source": [
    "#Task 5\n",
    "from itertools import permutations\n",
    "\n",
    "def string_permutations(s):\n",
    "    return [\"\".join(p) for p in permutations(s)]\n",
    "print(string_permutations(\"hello\"))"
   ]
  },
  {
   "cell_type": "code",
   "execution_count": 25,
   "metadata": {},
   "outputs": [
    {
     "name": "stdout",
     "output_type": "stream",
     "text": [
      "KBTU Hello\n"
     ]
    }
   ],
   "source": [
    "#Task 6\n",
    "def reverse_sentence(sentence):\n",
    "    return \" \".join(reversed(sentence.split()))\n",
    "print(reverse_sentence(\"Hello KBTU\"))\n"
   ]
  },
  {
   "cell_type": "code",
   "execution_count": 8,
   "metadata": {},
   "outputs": [
    {
     "name": "stdout",
     "output_type": "stream",
     "text": [
      "True\n",
      "False\n"
     ]
    }
   ],
   "source": [
    "#Task 7\n",
    "def has_33(nums):\n",
    "    for i in range(len(nums) - 1):\n",
    "        if nums[i] == 3 and nums[i + 1] == 3:\n",
    "            return True\n",
    "    return False\n",
    "print(has_33([1,3,3]))\n",
    "print(has_33([3,1,3]))\n"
   ]
  },
  {
   "cell_type": "code",
   "execution_count": 57,
   "metadata": {},
   "outputs": [
    {
     "name": "stdout",
     "output_type": "stream",
     "text": [
      "True\n",
      "True\n",
      "False\n"
     ]
    }
   ],
   "source": [
    "#Task 8\n",
    "def spy_game(nums):\n",
    "    sequence = [0, 0, 7]\n",
    "    for n in nums:\n",
    "        if sequence and n == sequence[0]:\n",
    "            sequence.pop(0)\n",
    "        if not sequence:\n",
    "            return True\n",
    "    return False\n",
    "\n",
    "print(spy_game([1, 2, 4, 0, 0, 7, 5]))  \n",
    "print(spy_game([1, 0, 2, 4, 0, 5, 7])) \n",
    "print(spy_game([1, 7, 2, 0, 4, 5, 0]))  \n"
   ]
  },
  {
   "cell_type": "code",
   "execution_count": 58,
   "metadata": {},
   "outputs": [
    {
     "name": "stdout",
     "output_type": "stream",
     "text": [
      "113.09733552923254\n"
     ]
    }
   ],
   "source": [
    "#Task 9\n",
    "import math\n",
    "\n",
    "def sphere_volume(radius):\n",
    "    return (4/3) * math.pi * (radius ** 3)\n",
    "\n",
    "print(sphere_volume(3)) "
   ]
  },
  {
   "cell_type": "code",
   "execution_count": 59,
   "metadata": {},
   "outputs": [
    {
     "name": "stdout",
     "output_type": "stream",
     "text": [
      "[1, 2, 3, 4, 5]\n"
     ]
    }
   ],
   "source": [
    "#Task 10\n",
    "def unique_list(lists):\n",
    "    unique = []\n",
    "    for item in lists:\n",
    "        if item not in unique:\n",
    "            unique.append(item)\n",
    "    return unique\n",
    "\n",
    "print(unique_list([1, 2, 2, 3, 4, 4, 5]))  "
   ]
  },
  {
   "cell_type": "code",
   "execution_count": 29,
   "metadata": {},
   "outputs": [
    {
     "name": "stdout",
     "output_type": "stream",
     "text": [
      "True\n",
      "False\n"
     ]
    }
   ],
   "source": [
    "#Task 11\n",
    "def is_palindrome(word):\n",
    "    word = [c.lower() for c in word if c.isalnum()]  \n",
    "    return word == list(reversed(word))  # Сравниваем с перевёрнутой версией\n",
    "print(is_palindrome(\"madam\"))  \n",
    "print(is_palindrome(\"hello\"))  "
   ]
  },
  {
   "cell_type": "code",
   "execution_count": 2,
   "metadata": {},
   "outputs": [
    {
     "name": "stdout",
     "output_type": "stream",
     "text": [
      "****\n",
      "*********\n",
      "*******\n"
     ]
    }
   ],
   "source": [
    "#Task 12\n",
    "def histogram(lists):\n",
    "    for i in lists:\n",
    "        print('*' * i)\n",
    "histogram([4, 9, 7])"
   ]
  }
 ],
 "metadata": {
  "kernelspec": {
   "display_name": "Python 3",
   "language": "python",
   "name": "python3"
  },
  "language_info": {
   "codemirror_mode": {
    "name": "ipython",
    "version": 3
   },
   "file_extension": ".py",
   "mimetype": "text/x-python",
   "name": "python",
   "nbconvert_exporter": "python",
   "pygments_lexer": "ipython3",
   "version": "3.9.6"
  }
 },
 "nbformat": 4,
 "nbformat_minor": 2
}
